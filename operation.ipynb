{
 "cells": [
  {
   "cell_type": "markdown",
   "id": "f3ea8c0c",
   "metadata": {},
   "source": [
    "double mutation"
   ]
  },
  {
   "cell_type": "code",
   "execution_count": null,
   "id": "09980ee3",
   "metadata": {},
   "outputs": [],
   "source": [
    "!python mutation_gen2.py --folder ini_data --validator /Users/jack/fsynth-artifact/project/bin/subjects/ini/ini --database double_ini.db"
   ]
  },
  {
   "cell_type": "code",
   "execution_count": null,
   "id": "d7fb1f99",
   "metadata": {},
   "outputs": [],
   "source": [
    "!python mutation_gen2.py --folder lisp_data --validator /Users/jack/fsynth-artifact/project/bin/subjects/sexp-parser/sexp --database double_lisp.db"
   ]
  },
  {
   "cell_type": "code",
   "execution_count": null,
   "id": "8687a84b",
   "metadata": {},
   "outputs": [],
   "source": [
    "!python mutation_gen2.py --folder dot_data --validator /Users/jack/fsynth-artifact/dot/build/dot_parser --database double_dot.db"
   ]
  },
  {
   "cell_type": "code",
   "execution_count": null,
   "id": "d0dd54dc",
   "metadata": {},
   "outputs": [],
   "source": [
    "!python mutation_gen2.py --folder json_data --validator /Users/jack/fsynth-artifact/project/bin/subjects/cjson/cjson --database double_json.db"
   ]
  },
  {
   "cell_type": "markdown",
   "id": "c7408e32",
   "metadata": {},
   "source": [
    "python mutation_gen2.py --folder obj_data --validator obj/build/obj_parser --database mutation_obj.db"
   ]
  },
  {
   "cell_type": "markdown",
   "id": "ec9350eb",
   "metadata": {},
   "source": [
    "single mutation"
   ]
  },
  {
   "cell_type": "code",
   "execution_count": null,
   "id": "db5bedfa",
   "metadata": {},
   "outputs": [],
   "source": [
    "!python mutation_gen.py --folder dot_data --validator /Users/jack/fsynth-artifact/dot/build/dot_parser --database single_dot.db"
   ]
  },
  {
   "cell_type": "markdown",
   "id": "92237738",
   "metadata": {},
   "source": [
    "!python mutation_gen.py --folder lisp_data --validator /Users/jack/fsynth-artifact/project/bin/subjects/sexp-parser/sexp --database single_lisp.db"
   ]
  },
  {
   "cell_type": "markdown",
   "id": "f6d1c75b",
   "metadata": {},
   "source": [
    "!python mutation_gen.py --folder ini_data --validator /Users/jack/fsynth-artifact/project/bin/subjects/ini/ini --database single_ini.db"
   ]
  },
  {
   "cell_type": "code",
   "execution_count": null,
   "id": "6968a296",
   "metadata": {},
   "outputs": [],
   "source": [
    "!python mutation_gen.py --folder json_data --validator /Users/jack/fsynth-artifact/project/bin/subjects/cjson/cjson --database single_json.db"
   ]
  },
  {
   "cell_type": "code",
   "execution_count": null,
   "id": "d80279b6",
   "metadata": {},
   "outputs": [],
   "source": [
    "!python mutation_gen.py --folder obj_data --validator /Users/jack/fsynth-artifact/obj/build/obj_parser --database single_obj.db"
   ]
  },
  {
   "cell_type": "markdown",
   "id": "9af3ff1c",
   "metadata": {},
   "source": [
    "single benchamrk"
   ]
  },
  {
   "cell_type": "markdown",
   "id": "fc2f5f2b",
   "metadata": {},
   "source": [
    "python benchmark_single.py -f ini -o single_1.db"
   ]
  },
  {
   "cell_type": "markdown",
   "id": "e487970a",
   "metadata": {},
   "source": [
    "python benchmark_single.py -f json -o single_2.db"
   ]
  },
  {
   "cell_type": "markdown",
   "id": "b49cae6e",
   "metadata": {},
   "source": [
    "python benchmark_single.py -f lisp -o single_3.db"
   ]
  },
  {
   "cell_type": "markdown",
   "id": "7fa66c47",
   "metadata": {},
   "source": [
    "python benchmark_single.py -f dot -o single_4.db"
   ]
  },
  {
   "cell_type": "markdown",
   "id": "a1a9933a",
   "metadata": {},
   "source": [
    "python benchmark_single.py -f obj -o single_5.db"
   ]
  },
  {
   "cell_type": "markdown",
   "id": "aa35824d",
   "metadata": {},
   "source": [
    "double benchamrk"
   ]
  },
  {
   "cell_type": "markdown",
   "id": "2c177974",
   "metadata": {},
   "source": [
    "python benchmark_multiple.py -f ini -o double_1.db"
   ]
  },
  {
   "cell_type": "markdown",
   "id": "18bb3603",
   "metadata": {},
   "source": [
    "python benchmark_multiple.py -f json -o double_2.db"
   ]
  },
  {
   "cell_type": "markdown",
   "id": "492bdb6e",
   "metadata": {},
   "source": [
    "python benchmark_multiple.py -f lisp -o double_3.db"
   ]
  },
  {
   "cell_type": "markdown",
   "id": "92bd3b11",
   "metadata": {},
   "source": [
    "python benchmark_multiple.py -f dot -o double_4.db"
   ]
  },
  {
   "cell_type": "markdown",
   "id": "e3b80fa9",
   "metadata": {},
   "source": [
    "python benchmark_multiple.py -f obj -o double_5.db"
   ]
  },
  {
   "cell_type": "markdown",
   "id": "fb95bf8c",
   "metadata": {},
   "source": [
    "truncated benchamrk"
   ]
  },
  {
   "cell_type": "markdown",
   "id": "16be4a35",
   "metadata": {},
   "source": [
    "python benchmark_truncation.py -f ini -o truncated_1.db"
   ]
  },
  {
   "cell_type": "markdown",
   "id": "17e226fb",
   "metadata": {},
   "source": [
    "python benchmark_truncation.py -f json -o truncated_2.db"
   ]
  },
  {
   "cell_type": "markdown",
   "id": "c3e2f82a",
   "metadata": {},
   "source": [
    "python benchmark_truncation.py -f lisp -o truncated_3.db"
   ]
  },
  {
   "cell_type": "markdown",
   "id": "b1774096",
   "metadata": {},
   "source": [
    "python benchmark_truncation.py -f dot -o truncated_4.db"
   ]
  },
  {
   "cell_type": "markdown",
   "id": "daaf1994",
   "metadata": {},
   "source": [
    "python benchmark_truncation.py -f obj -o truncated_5.db"
   ]
  }
 ],
 "metadata": {
  "kernelspec": {
   "display_name": "Python 3",
   "language": "python",
   "name": "python3"
  },
  "language_info": {
   "codemirror_mode": {
    "name": "ipython",
    "version": 3
   },
   "file_extension": ".py",
   "mimetype": "text/x-python",
   "name": "python",
   "nbconvert_exporter": "python",
   "pygments_lexer": "ipython3",
   "version": "3.12.5"
  }
 },
 "nbformat": 4,
 "nbformat_minor": 5
}
